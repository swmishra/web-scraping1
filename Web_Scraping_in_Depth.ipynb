{
  "nbformat": 4,
  "nbformat_minor": 0,
  "metadata": {
    "colab": {
      "name": "Web Scraping in Depth",
      "provenance": [],
      "collapsed_sections": [],
      "authorship_tag": "ABX9TyPtB6okOzaMcsDBMRaOU4/I",
      "include_colab_link": true
    },
    "kernelspec": {
      "name": "python3",
      "display_name": "Python 3"
    },
    "language_info": {
      "name": "python"
    }
  },
  "cells": [
    {
      "cell_type": "markdown",
      "metadata": {
        "id": "view-in-github",
        "colab_type": "text"
      },
      "source": [
        "<a href=\"https://colab.research.google.com/github/swmishra/web-scraping1/blob/main/Web_Scraping_in_Depth.ipynb\" target=\"_parent\"><img src=\"https://colab.research.google.com/assets/colab-badge.svg\" alt=\"Open In Colab\"/></a>"
      ]
    },
    {
      "cell_type": "code",
      "metadata": {
        "id": "eBN26joeRowJ"
      },
      "source": [
        "# This example checks to see if we have bs4 installed and will return a boolean.\n",
        "import sys\n",
        "'bs4' in sys.modules"
      ],
      "execution_count": null,
      "outputs": []
    },
    {
      "cell_type": "code",
      "metadata": {
        "id": "D8MKbLcNRwOL"
      },
      "source": [
        "# install libraries\n",
        "!pip install requests\n",
        "!pip install lxml\n",
        "!pip install bs4"
      ],
      "execution_count": null,
      "outputs": []
    },
    {
      "cell_type": "code",
      "metadata": {
        "id": "5id25M0pR0Aa"
      },
      "source": [
        "# importing libraries\n",
        "import requests\n",
        "import bs4"
      ],
      "execution_count": 3,
      "outputs": []
    },
    {
      "cell_type": "code",
      "metadata": {
        "id": "1CNQqpnJR8t6"
      },
      "source": [
        "result = requests.get(\"http://example.com/\")"
      ],
      "execution_count": 9,
      "outputs": []
    },
    {
      "cell_type": "code",
      "metadata": {
        "id": "uQtoD2XASEmp"
      },
      "source": [
        "# check type, which will show that you've successful sent your request.\n",
        "type(result)"
      ],
      "execution_count": null,
      "outputs": []
    },
    {
      "cell_type": "code",
      "metadata": {
        "id": "pxaeffyeSHwZ"
      },
      "source": [
        "# Running the following will give us all the html for that page as a Python string\n",
        "result.text"
      ],
      "execution_count": null,
      "outputs": []
    },
    {
      "cell_type": "code",
      "metadata": {
        "id": "uv6hTN4DSMsh"
      },
      "source": [
        "# Parse your HTML using Beautiful Soup...\n",
        "soup = bs4.BeautifulSoup(result.text, \"lxml\") # arguments here include what we're parsing, and which engine we're using."
      ],
      "execution_count": 14,
      "outputs": []
    },
    {
      "cell_type": "code",
      "metadata": {
        "id": "Jsn4lmUaSPop"
      },
      "source": [
        "# Calling the soup shows how our parser has nicely organized the html as a \"soup object\" so we can see the different page elements.\n",
        "soup"
      ],
      "execution_count": null,
      "outputs": []
    },
    {
      "cell_type": "code",
      "metadata": {
        "id": "sRAJaDLcSX26"
      },
      "source": [
        "# Grab some raw HTML elements: by default this will return a list that includes the tags\n",
        "soup.select('title')"
      ],
      "execution_count": null,
      "outputs": []
    },
    {
      "cell_type": "code",
      "metadata": {
        "id": "ODCKCys-Saqi"
      },
      "source": [
        "# use the select method, specify the index - 0 since there's only one, then get text.\n",
        "soup.select('title')[0].getText()"
      ],
      "execution_count": null,
      "outputs": []
    },
    {
      "cell_type": "code",
      "metadata": {
        "id": "oqqwViKRS9eq"
      },
      "source": [
        "# Coding challenge\n",
        "# Select a paragraph and strip off the HTML tags so that you are left with the paragraph text as a string value\n",
        "soup.select('p')"
      ],
      "execution_count": null,
      "outputs": []
    },
    {
      "cell_type": "code",
      "metadata": {
        "id": "tkr2w8QXUQyb"
      },
      "source": [
        "res = requests.get('https://en.wikipedia.org/wiki/Ada_Lovelace')"
      ],
      "execution_count": 24,
      "outputs": []
    },
    {
      "cell_type": "code",
      "metadata": {
        "id": "W-8tP1xNUUI6"
      },
      "source": [
        "# make our soup object\n",
        "ada_soup = bs4.BeautifulSoup(res.text, \"lxml\")"
      ],
      "execution_count": 26,
      "outputs": []
    },
    {
      "cell_type": "code",
      "metadata": {
        "id": "yl8sO8r4UW26"
      },
      "source": [
        "# You can check the soup - this will be long!\n",
        "ada_soup"
      ],
      "execution_count": null,
      "outputs": []
    },
    {
      "cell_type": "code",
      "metadata": {
        "id": "0_VuW8kEUdYa"
      },
      "source": [
        "ada_soup.select('.toctext')"
      ],
      "execution_count": null,
      "outputs": []
    },
    {
      "cell_type": "code",
      "metadata": {
        "id": "PMl27C19UrQ6"
      },
      "source": [
        "# Let's grab and inspect the first item\n",
        "first_item = ada_soup.select('.toctext')[0]"
      ],
      "execution_count": 30,
      "outputs": []
    },
    {
      "cell_type": "code",
      "metadata": {
        "id": "0k8JqmbeUtwC"
      },
      "source": [
        "first_item # could also use print(first_item)"
      ],
      "execution_count": null,
      "outputs": []
    },
    {
      "cell_type": "code",
      "metadata": {
        "id": "pP-qZMkWUwkD"
      },
      "source": [
        "# Now lets grab just the text from that first item: not HTML code.\n",
        "first_item.text"
      ],
      "execution_count": null,
      "outputs": []
    },
    {
      "cell_type": "code",
      "metadata": {
        "colab": {
          "base_uri": "https://localhost:8080/"
        },
        "id": "gK6UFPdDU3gC",
        "outputId": "ca858eb5-552d-4dc5-aae1-f577d906d728"
      },
      "source": [
        "# Iterate through all the items and print only text\n",
        "for item in ada_soup.select('.toctext'):\n",
        "  print(item.text)"
      ],
      "execution_count": 33,
      "outputs": [
        {
          "output_type": "stream",
          "text": [
            "Biography\n",
            "Childhood\n",
            "Adult years\n",
            "Education\n",
            "Death\n",
            "Work\n",
            "First computer program\n",
            "Insight into potential of computing devices\n",
            "Controversy over contribution\n",
            "In popular culture\n",
            "1810s\n",
            "1970s\n",
            "1990s\n",
            "2000s\n",
            "2010s\n",
            "2020s\n",
            "Commemoration\n",
            "Bicentenary\n",
            "Publications\n",
            "Publication history\n",
            "See also\n",
            "Explanatory notes\n",
            "References\n",
            "General sources\n",
            "Further reading\n",
            "External links\n"
          ],
          "name": "stdout"
        }
      ]
    },
    {
      "cell_type": "code",
      "metadata": {
        "id": "_SM9FQfxVgab"
      },
      "source": [
        "# make a fresh request for the page content\n",
        "res = requests.get(\"https://en.wikipedia.org/wiki/Stacey_Abrams\")"
      ],
      "execution_count": 34,
      "outputs": []
    },
    {
      "cell_type": "code",
      "metadata": {
        "id": "PLcSPKuYVixi"
      },
      "source": [
        "# Now, make our soup.\n",
        "soup = bs4.BeautifulSoup(res.text, 'lxml')"
      ],
      "execution_count": 35,
      "outputs": []
    },
    {
      "cell_type": "code",
      "metadata": {
        "id": "Ila4nYg1VkmC"
      },
      "source": [
        "soup # run this to get a structured output of HTML code."
      ],
      "execution_count": null,
      "outputs": []
    },
    {
      "cell_type": "code",
      "metadata": {
        "id": "07X3gPA4VsUC"
      },
      "source": [
        "# img is an element tag, not a class or id, so we don't need to worry about hashtags or periods.\n",
        "soup.select('img')"
      ],
      "execution_count": null,
      "outputs": []
    },
    {
      "cell_type": "code",
      "metadata": {
        "id": "SlVzYK-dVzq6"
      },
      "source": [
        "# Let's explore our results by looking at the first one\n",
        "soup.select('img')[0]"
      ],
      "execution_count": null,
      "outputs": []
    },
    {
      "cell_type": "code",
      "metadata": {
        "id": "o9_4QJjaWMIy"
      },
      "source": [
        "# Because we're parsing a class, we'll want the . in our argument\n",
        "soup.select('.thumbimage')"
      ],
      "execution_count": null,
      "outputs": []
    },
    {
      "cell_type": "code",
      "metadata": {
        "id": "sP5w2S9BWR4D"
      },
      "source": [
        "stacy_1 = soup.select('.thumbimage')[0]"
      ],
      "execution_count": 41,
      "outputs": []
    },
    {
      "cell_type": "code",
      "metadata": {
        "id": "ryoXLfcyWUpD"
      },
      "source": [
        "stacy_1 #run this to make sure have the right image."
      ],
      "execution_count": null,
      "outputs": []
    },
    {
      "cell_type": "code",
      "metadata": {
        "id": "fh4h0P2NWofr"
      },
      "source": [
        "# call different tags in the stacy_1 tag object\n",
        "stacy_1['class']"
      ],
      "execution_count": null,
      "outputs": []
    },
    {
      "cell_type": "code",
      "metadata": {
        "id": "XsJTh0TzWqYy"
      },
      "source": [
        "stacy_1['src'] # this will return the URL we want as a string."
      ],
      "execution_count": null,
      "outputs": []
    },
    {
      "cell_type": "code",
      "metadata": {
        "id": "XR-PuP10WsbK"
      },
      "source": [
        "image_link = requests.get(\"https://upload.wikimedia.org/wikipedia/commons/thumb/c/c6/Stacey_abrams_at_protest.jpg/220px-Stacey_abrams_at_protest.jpg\")"
      ],
      "execution_count": 46,
      "outputs": []
    },
    {
      "cell_type": "code",
      "metadata": {
        "id": "EqY1w-MsWvYy"
      },
      "source": [
        "# show the image link using a \"content\" attribute.\n",
        "image_link.content"
      ],
      "execution_count": null,
      "outputs": []
    },
    {
      "cell_type": "code",
      "metadata": {
        "id": "6PGc4DuIW25j"
      },
      "source": [
        "# Create a new file name (add .jpg or whatever matches the ned of your URL) to which we will write the file\n",
        "# I'm using the variable \"f\" for \"file\"\n",
        "f = open('my_stacy_image1.jpg', 'wb') # wb denotes \"write binary\""
      ],
      "execution_count": 48,
      "outputs": []
    },
    {
      "cell_type": "code",
      "metadata": {
        "id": "MrgK31WOW4li"
      },
      "source": [
        "# now we'll write all that binary content to the file. This should return some integer\n",
        "f.write(image_link.content)"
      ],
      "execution_count": null,
      "outputs": []
    },
    {
      "cell_type": "code",
      "metadata": {
        "id": "0zWw-HgdW6Lb"
      },
      "source": [
        "# now we close the file.\n",
        "f.close()"
      ],
      "execution_count": 50,
      "outputs": []
    },
    {
      "cell_type": "code",
      "metadata": {
        "colab": {
          "base_uri": "https://localhost:8080/",
          "height": 17
        },
        "id": "bFBiw8PsW9qK",
        "outputId": "db5354d6-1e21-49db-f6a1-52a0257c1765"
      },
      "source": [
        "from google.colab import files\n",
        "files.download('my_stacy_image1.jpg')"
      ],
      "execution_count": 70,
      "outputs": [
        {
          "output_type": "display_data",
          "data": {
            "application/javascript": [
              "\n",
              "    async function download(id, filename, size) {\n",
              "      if (!google.colab.kernel.accessAllowed) {\n",
              "        return;\n",
              "      }\n",
              "      const div = document.createElement('div');\n",
              "      const label = document.createElement('label');\n",
              "      label.textContent = `Downloading \"${filename}\": `;\n",
              "      div.appendChild(label);\n",
              "      const progress = document.createElement('progress');\n",
              "      progress.max = size;\n",
              "      div.appendChild(progress);\n",
              "      document.body.appendChild(div);\n",
              "\n",
              "      const buffers = [];\n",
              "      let downloaded = 0;\n",
              "\n",
              "      const channel = await google.colab.kernel.comms.open(id);\n",
              "      // Send a message to notify the kernel that we're ready.\n",
              "      channel.send({})\n",
              "\n",
              "      for await (const message of channel.messages) {\n",
              "        // Send a message to notify the kernel that we're ready.\n",
              "        channel.send({})\n",
              "        if (message.buffers) {\n",
              "          for (const buffer of message.buffers) {\n",
              "            buffers.push(buffer);\n",
              "            downloaded += buffer.byteLength;\n",
              "            progress.value = downloaded;\n",
              "          }\n",
              "        }\n",
              "      }\n",
              "      const blob = new Blob(buffers, {type: 'application/binary'});\n",
              "      const a = document.createElement('a');\n",
              "      a.href = window.URL.createObjectURL(blob);\n",
              "      a.download = filename;\n",
              "      div.appendChild(a);\n",
              "      a.click();\n",
              "      div.remove();\n",
              "    }\n",
              "  "
            ],
            "text/plain": [
              "<IPython.core.display.Javascript object>"
            ]
          },
          "metadata": {
            "tags": []
          }
        },
        {
          "output_type": "display_data",
          "data": {
            "application/javascript": [
              "download(\"download_51a7f6ce-dfc3-494a-b7fd-0d09d9a2edad\", \"my_stacy_image1.jpg\", 15487)"
            ],
            "text/plain": [
              "<IPython.core.display.Javascript object>"
            ]
          },
          "metadata": {
            "tags": []
          }
        }
      ]
    },
    {
      "cell_type": "code",
      "metadata": {
        "colab": {
          "base_uri": "https://localhost:8080/"
        },
        "id": "4yOHOmeEXlhr",
        "outputId": "4c47d60d-4bc7-4086-fcd0-65227cd704ac"
      },
      "source": [
        "# Scraping text from Wikipedia for Clark University\n",
        "# Scraping the entire Clark University Wikipedia webpage; keeping only the headings and not the HTML tags\n",
        "\n",
        "# starting with the request\n",
        "res = requests.get('https://en.wikipedia.org/wiki/Clark_University')\n",
        "# making the soup object\n",
        "clark_soup = bs4.BeautifulSoup(res.text, \"lxml\")\n",
        "# checking the soup\n",
        "clark_soup\n",
        "# grabbing all the elements of the class containing (class=\"mw-headline\")\n",
        "clark_soup.select('.mw-headline')\n",
        "# grabbing and inspecting the 18th item from the list of headings (\"International_Development,_Community_and_Environment_Department\")\n",
        "eighteenth_item = clark_soup.select('.mw-headline')[17]\n",
        "print(eighteenth_item)\n",
        "# grabbing only the text from that eighteenth item (not HTML code)\n",
        "eighteenth_item.text\n",
        "# iterating through all the items and printing only the headings\n",
        "for item in clark_soup.select('.mw-headline'):\n",
        "  print(item.text)"
      ],
      "execution_count": 71,
      "outputs": [
        {
          "output_type": "stream",
          "text": [
            "<span class=\"mw-headline\" id=\"International_Development,_Community_and_Environment_Department\">International Development, Community and Environment Department</span>\n",
            "History\n",
            "Founding and early history\n",
            "Clark Lectures\n",
            "Later history\n",
            "2000s\n",
            "Campus\n",
            "Academic facilities\n",
            "Libraries\n",
            "Athletic facilities\n",
            "Housing\n",
            "Organization\n",
            "Clark College\n",
            "Graduate School of Management\n",
            "Graduate School of Geography\n",
            "School of Professional Studies\n",
            "Frances L. Hiatt School of Psychology\n",
            "Gustaf H. Carlson School of Chemistry and Biochemistry\n",
            "International Development, Community and Environment Department\n",
            "Academics\n",
            "Admissions\n",
            "Student life\n",
            "Student body\n",
            "Residential life\n",
            "Student organizations\n",
            "Media and publications\n",
            "Events\n",
            "Athletics\n",
            "Clark and the community\n",
            "Research\n",
            "People\n",
            "In popular culture\n",
            "References\n",
            "Further reading\n",
            "External links\n"
          ],
          "name": "stdout"
        }
      ]
    }
  ]
}